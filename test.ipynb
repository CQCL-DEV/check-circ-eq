{
 "cells": [
  {
   "cell_type": "code",
   "execution_count": 19,
   "metadata": {},
   "outputs": [],
   "source": [
    "import os\n",
    "import json\n",
    "import time\n",
    "from glob import glob\n",
    "from pathlib import Path\n",
    "from termcolor import colored\n",
    "\n",
    "from pytket import Circuit\n",
    "from pytket.qasm import circuit_from_qasm_str\n",
    "from pytket.extensions.cutensornet import TensorNetwork\n",
    "import cuquantum as cq\n",
    "import numpy as np"
   ]
  },
  {
   "cell_type": "code",
   "execution_count": 20,
   "metadata": {},
   "outputs": [],
   "source": [
    "def load_circuit(file):\n",
    "    \"\"\"Load a circuit from a tket1 json or qasm file.\"\"\"\n",
    "    file = Path(file)\n",
    "    # Check the extension\n",
    "    if file.suffix == \".json\":\n",
    "        with open(file, \"r\") as f:\n",
    "            json_circ = json.load(f)\n",
    "            # Ignore classical registers\n",
    "            json_circ[\"bits\"] = []\n",
    "            circ = Circuit.from_dict(json_circ)\n",
    "    elif file.suffix == \".qasm\":\n",
    "        with open(file, \"r\") as f:\n",
    "            # Ignore classical registers\n",
    "            qasm = \"\".join(line for line in f if \"creg\" not in line)\n",
    "            circ = circuit_from_qasm_str(qasm)\n",
    "    else:\n",
    "        raise ValueError(f\"Unknown file extension: {file.suffix}\")\n",
    "\n",
    "    return circ"
   ]
  },
  {
   "cell_type": "code",
   "execution_count": 21,
   "metadata": {},
   "outputs": [],
   "source": [
    "correct_file = \"bef/3ad505ce-d668-11ea-a4be-38f9d36dfbf2.json\"\n",
    "invalid_file = \"aft/3ad505ce-d668-11ea-a4be-38f9d36dfbf2-hypertket-best-final-circ.json\"\n",
    "\n",
    "correct = load_circuit(correct_file)\n",
    "invalid = load_circuit(invalid_file)\n",
    "\n",
    "correct_u = correct.get_unitary()\n",
    "invalid_u = invalid.get_unitary()"
   ]
  },
  {
   "cell_type": "code",
   "execution_count": 34,
   "metadata": {},
   "outputs": [
    {
     "name": "stdout",
     "output_type": "stream",
     "text": [
      "Correct unitary:\n",
      "[[-0.32160533+0.4809864j   0.34192845-0.08740994j -0.08471252-0.33137674j\n",
      "   0.54109469+0.36179596j]\n",
      " [ 0.06357949+0.34715012j -0.3024334 +0.49326661j  0.55490954+0.34022814j\n",
      "   0.33643727-0.06161747j]\n",
      " [-0.04557231-0.0743281j  -0.13153023+0.71816769j -0.65555182-0.12006233j\n",
      "   0.10500273-0.06437965j]\n",
      " [-0.70736533-0.18082952j -0.04846125-0.07247766j  0.10238861-0.06846082j\n",
      "   0.16506329-0.64569131j]]\n",
      "\n",
      "Invalid unitary:\n",
      "[[-0.32160533+0.4809864j   0.34192845-0.08740994j -0.08471252-0.33137674j\n",
      "   0.54109469+0.36179596j]\n",
      " [ 0.06357949+0.34715012j -0.3024334 +0.49326661j  0.55490954+0.34022814j\n",
      "   0.33643727-0.06161747j]\n",
      " [-0.04557231-0.0743281j  -0.13153023+0.71816769j -0.65555182-0.12006233j\n",
      "   0.10500273-0.06437965j]\n",
      " [-0.70736533-0.18082952j -0.04846125-0.07247766j  0.10238861-0.06846082j\n",
      "   0.16506329-0.64569131j]]\n",
      "\n",
      "Correct == Invalid?\n",
      "[[ True  True  True  True]\n",
      " [ True  True  True  True]\n",
      " [ True  True  True  True]\n",
      " [ True  True  True  True]]\n"
     ]
    }
   ],
   "source": [
    "print(\"Correct unitary:\")\n",
    "print(correct_u)\n",
    "\n",
    "print()\n",
    "print(\"Invalid unitary:\")\n",
    "print(invalid_u)\n",
    "\n",
    "print()\n",
    "print(\"Correct == Invalid?\")\n",
    "print(np.isclose(correct_u, invalid_u, atol=1e-14, rtol=0))"
   ]
  },
  {
   "cell_type": "code",
   "execution_count": 37,
   "metadata": {},
   "outputs": [
    {
     "name": "stdout",
     "output_type": "stream",
     "text": [
      "The values are almost equal:\n",
      "Correct: (-0.3216053271232092+0.4809864038808974j)\n",
      "Invalid: (-0.3216053271232111+0.48098640388089564j)\n"
     ]
    }
   ],
   "source": [
    "print(\"The values are almost equal:\")\n",
    "print(\"Correct:\", correct_u[0][0])\n",
    "print(\"Invalid:\", invalid_u[0][0])"
   ]
  }
 ],
 "metadata": {
  "kernelspec": {
   "display_name": "Python 3",
   "language": "python",
   "name": "python3"
  },
  "language_info": {
   "codemirror_mode": {
    "name": "ipython",
    "version": 3
   },
   "file_extension": ".py",
   "mimetype": "text/x-python",
   "name": "python",
   "nbconvert_exporter": "python",
   "pygments_lexer": "ipython3",
   "version": "3.11.5"
  }
 },
 "nbformat": 4,
 "nbformat_minor": 2
}
